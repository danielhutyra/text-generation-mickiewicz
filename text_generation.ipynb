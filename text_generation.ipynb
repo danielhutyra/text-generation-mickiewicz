{
  "nbformat": 4,
  "nbformat_minor": 0,
  "metadata": {
    "colab": {
      "name": "WUM6z.ipynb",
      "provenance": [],
      "collapsed_sections": []
    },
    "language_info": {
      "codemirror_mode": {
        "name": "ipython",
        "version": 3
      },
      "file_extension": ".py",
      "mimetype": "text/x-python",
      "name": "python",
      "nbconvert_exporter": "python",
      "pygments_lexer": "ipython3",
      "version": "3.6.7"
    },
    "kernelspec": {
      "name": "python3",
      "display_name": "Python 3"
    }
  },
  "cells": [
    {
      "cell_type": "markdown",
      "metadata": {
        "id": "M2TRva8BHbfO",
        "colab_type": "text"
      },
      "source": [
        "# Modelowanie językowe na poziomie znakowym przy użyciu sieci rekurencyjnych.\n",
        "\n",
        "Zadanie polega na utworzeniu sieci rekurencyjnej LSTM (opcjonalnie GRU), która będzie przewidywała kolejne znaki na podstawie wczytanej sekwencji. W rezultacie sieć będizew stanie wygenerować nowy tekst w tym samym stylu co wejściowy.\n",
        "\n",
        "Pomocne tutoriale: \n",
        "\n",
        "https://pytorch.org/tutorials/beginner/nlp/sequence_models_tutorial.html\n",
        "\n",
        "\n",
        "https://pytorch.org/tutorials/intermediate/char_rnn_generation_tutorial.html\n"
      ]
    },
    {
      "cell_type": "markdown",
      "metadata": {
        "id": "1m4-g5LGov-z",
        "colab_type": "text"
      },
      "source": [
        "Import danych tekstowych."
      ]
    },
    {
      "cell_type": "code",
      "metadata": {
        "id": "bBwK6EogHbfP",
        "colab_type": "code",
        "colab": {
          "base_uri": "https://localhost:8080/",
          "height": 92
        },
        "outputId": "6c126f82-ff9a-4c9e-849a-630cf482611d"
      },
      "source": [
        "import random\n",
        "import re\n",
        "import torch\n",
        "import torch.nn as nn\n",
        "import numpy as np\n",
        "from torch.autograd import Variable\n",
        "\n",
        "\n",
        "\n",
        "with open('./mickiewicz.txt', 'r') as f:\n",
        "    file=f.read()\n",
        "\n",
        "file_len = len(file)\n",
        "print('file_len =', file_len)\n",
        "\n",
        "#Poniżej pozbywamy się elementów zbędnych w naszej analizie\n",
        "file = file.replace(\"\\n\", \"\")\n",
        "file = file.replace(\"\\t\", \"\")\n",
        "file = file.replace(\"\\u2009\", \"\")\n",
        "\n",
        "all_characters = list(set(file)) #lista znaków, które występują w tekscie\n",
        "n_characters = len(all_characters) #liczba zanków\n",
        "print(all_characters)\n",
        "print(n_characters)\n"
      ],
      "execution_count": null,
      "outputs": [
        {
          "output_type": "stream",
          "text": [
            "file_len = 75575\n",
            "['O', 'a', 'g', ',', 'G', 'S', 'ś', ' ', 'ż', '?', 'l', '2', 'd', '[', 'U', 'P', 'ą', 'I', 'H', 'ń', ']', 'é', 'M', 'F', '3', 'o', 'z', 'ł', 'j', 'J', 's', 'ź', '„', 'e', 'B', '4', 'E', 'c', ':', '—', 'w', 'Ż', 'y', 'b', 'N', 'm', '5', 't', '.', 'ę', '“', '1', 'Ł', '6', 'f', 'n', 'W', 'h', ')', '-', '7', 'r', 'D', 'C', 'T', '(', 'K', ';', 'A', 'Ś', 'R', 'x', 'L', 'k', 'i', 'ó', 'Z', '!', 'p', 'ć', '\"', 'u']\n",
            "82\n"
          ],
          "name": "stdout"
        }
      ]
    },
    {
      "cell_type": "markdown",
      "metadata": {
        "id": "0L8KBRWyHbfU",
        "colab_type": "text"
      },
      "source": [
        " Funkcja zwracająca losowy fragment tekstu o zadanej długości chunk_len.\n",
        "\n",
        "---\n",
        "\n"
      ]
    },
    {
      "cell_type": "code",
      "metadata": {
        "id": "FUwtlAsAHbfU",
        "colab_type": "code",
        "colab": {
          "base_uri": "https://localhost:8080/",
          "height": 54
        },
        "outputId": "944dd890-e898-4e20-dfa4-57fbf8e8cb8c"
      },
      "source": [
        "chunk_len = 200\n",
        "\n",
        "def random_chunk():\n",
        "    #Your code\n",
        "    start_index = random.randint(0, len(file)-chunk_len)  #wylosuj indeks wyznaczający początek tekstu\n",
        "    end_index = start_index + chunk_len\n",
        "    return file[start_index:end_index]\n",
        "\n",
        "rand = random_chunk()\n",
        "\n",
        "print(rand)\n",
        "print(len(rand))"
      ],
      "execution_count": null,
      "outputs": [
        {
          "output_type": "stream",
          "text": [
            "w i westchnień, i nowych powitań.Gdy się pan Wojski dosyć napytał, nabadał,Na samym końcu dzieje tego dnia powiadał. \"Dobrze, mój Tadeuszu (bo tak nazywanoMłodzieńca, który nosił Kościuszkowskie miano\n",
            "200\n"
          ],
          "name": "stdout"
        }
      ]
    },
    {
      "cell_type": "markdown",
      "metadata": {
        "id": "juGZk6dxHbfX",
        "colab_type": "text"
      },
      "source": [
        "Funkcja zwracająca tensor z indeksami znaków w ciągu"
      ]
    },
    {
      "cell_type": "code",
      "metadata": {
        "id": "STesZpdhHbfY",
        "colab_type": "code",
        "colab": {
          "base_uri": "https://localhost:8080/",
          "height": 35
        },
        "outputId": "b9810ef6-017a-45fc-8ca3-f2467b5615d7"
      },
      "source": [
        "def char_to_tensor(string, all_characters):\n",
        "    tensor = torch.zeros(len(string)).long()\n",
        "    for i, char in enumerate(string):\n",
        "      tensor[i] = all_characters.index(char)\n",
        "    return tensor\n",
        "\n",
        "print(char_to_tensor('abcDEFABCąąąaZ', all_characters)) #test funkcji (usunąłem elementy: 0 oraz Q ponieważ nie występują one pośród naszych znaków, a to na nich będziemy operować)"
      ],
      "execution_count": null,
      "outputs": [
        {
          "output_type": "stream",
          "text": [
            "tensor([ 1, 43, 37, 62, 36, 23, 68, 34, 63, 16, 16, 16,  1, 76])\n"
          ],
          "name": "stdout"
        }
      ]
    },
    {
      "cell_type": "code",
      "metadata": {
        "id": "9ks9INdpXQUF",
        "colab_type": "code",
        "colab": {
          "base_uri": "https://localhost:8080/",
          "height": 35
        },
        "outputId": "499e9e12-a93c-4cc9-89af-f0f8e9b89b70"
      },
      "source": [
        "all_characters[-2]"
      ],
      "execution_count": null,
      "outputs": [
        {
          "output_type": "execute_result",
          "data": {
            "text/plain": [
              "'\"'"
            ]
          },
          "metadata": {
            "tags": []
          },
          "execution_count": 5
        }
      ]
    },
    {
      "cell_type": "markdown",
      "metadata": {
        "id": "2Dzh_MH0itYq",
        "colab_type": "text"
      },
      "source": [
        "Funkcja, przekształca indeksy na \"one-hot vectors\". Jedynka w wektorze reprezentuje indkes znaku np:\n",
        "\n",
        "index=2,\n",
        "liczba znakow =5\n",
        "\n",
        "one_hot_vector=[0,0,1,0,0]\n",
        "\n",
        "lub\n",
        "\n",
        "index=0,\n",
        "liczba znakow =5\n",
        "\n",
        "one_hot_vector=[1,0,0,0,0]\n",
        "\n",
        "---\n",
        "\n"
      ]
    },
    {
      "cell_type": "code",
      "metadata": {
        "id": "yGbXyvMe7aeG",
        "colab_type": "code",
        "colab": {
          "base_uri": "https://localhost:8080/",
          "height": 164
        },
        "outputId": "5dc785cc-440d-4e5f-8c9c-8555b8bc010c"
      },
      "source": [
        "def one_hot_encoder(arr, n_labels):\n",
        "    one_hot_vector = torch.zeros(arr.shape[0], n_labels)\n",
        "    for row_idx, char_idx in enumerate(arr):\n",
        "      one_hot_vector[row_idx, char_idx] = 1\n",
        "\n",
        "    return one_hot_vector\n",
        "\n",
        "print(one_hot_encoder(char_to_tensor('GabcDEFABCąąąaZ?x?', all_characters), n_characters))\n",
        "print(one_hot_encoder(char_to_tensor('GabcDEFABCąąąaZ?x?', all_characters), n_characters).shape)"
      ],
      "execution_count": null,
      "outputs": [
        {
          "output_type": "stream",
          "text": [
            "tensor([[0., 0., 0.,  ..., 0., 0., 0.],\n",
            "        [0., 1., 0.,  ..., 0., 0., 0.],\n",
            "        [0., 0., 0.,  ..., 0., 0., 0.],\n",
            "        ...,\n",
            "        [0., 0., 0.,  ..., 0., 0., 0.],\n",
            "        [0., 0., 0.,  ..., 0., 0., 0.],\n",
            "        [0., 0., 0.,  ..., 0., 0., 0.]])\n",
            "torch.Size([18, 82])\n"
          ],
          "name": "stdout"
        }
      ]
    },
    {
      "cell_type": "markdown",
      "metadata": {
        "id": "TiwT1lvlHbfb",
        "colab_type": "text"
      },
      "source": [
        "### Model sieci\n",
        "\n",
        "- __init__ przypisanie parametrów sieci oraz utworzenie warstw: LSTM, linear, ew. dropout\n",
        "\n",
        "      a)lstm - 3 parametry: rozmiar wejścia, rozmiar \"ukryty\" oraz liczba warstw\n",
        "\n",
        "      b) Linear -warstwa pobierajca wejście z lstm i zwracająca wyjście całej sieci\n",
        "\n",
        "- forward - kolejne operacje na warstwach:lstm i linear. \n",
        "werstwa lstm  otrzymuje na wejściu wektor zerojedynkowy oraz poprzedni stan ukryty  oraz stan komórki$(h_{t-1}, c_{t-1})$, to na początku wektor zerowy). Wektor wejsciowy powinien być 3d: (seq_len, batch, input_size) - dlugosc wczytywanej sekwencji na raz (tutaj mamy pojedyncza litere), rozmiar batcha, rozmiar wektora wejściowego.\n",
        "\n",
        "  Lstm zwraca wyjście (ostatnią wartość w danym kroku t dla wszystkich wartstw jesli jest wiecej) oraz $(h_{t}, c_{t})$ stan ukryty i stan komórki (wartości z każdego kroku  dla ostatniej warstwy ) w kroku t równemu długości sekwencji, \n",
        "  \n",
        "  Wyjscie LSTM  przekazywane jest do warstwy liniowej i jest zwracane przez metodę razem z warstwą ukrytą\n",
        "\n",
        "- init_hidden, zwraca ( h_t, c_t) w początkowym stanie (wszystkie wymiary ustawione na zero)  h_t jest ukrytym stanem czyli wyjściem (hidden state lub output) w czasie t, c_t jest stanem komórki (cell state ) w kroku t, \n",
        "\n",
        "\n",
        "\n",
        "https://pytorch.org/docs/master/generated/torch.nn.LSTM.html#torch.nn.LSTM"
      ]
    },
    {
      "cell_type": "code",
      "metadata": {
        "id": "IdNxnh-kHbfc",
        "colab_type": "code",
        "colab": {}
      },
      "source": [
        "class RNN(nn.Module):\n",
        "    def __init__(self, input_size, hidden_size, output_size, n_layers=1):\n",
        "        super(RNN, self).__init__()\n",
        "        \n",
        "        self.input_size = input_size\n",
        "        self.hidden_size = hidden_size\n",
        "        self.output_size = output_size\n",
        "        self.n_layers = n_layers\n",
        "        \n",
        "        #Your code\n",
        "        self.lstm = nn.LSTM(input_size, hidden_size)\n",
        "        self.lin  = nn.Linear(hidden_size, output_size)\n",
        "        \n",
        "    \n",
        "    def forward(self, inp, hidden):\n",
        "        output, hidden = self.lstm(inp.to(device), hidden) #your code - wejście do warstwy lstm \n",
        "        output = self.lin(output)\n",
        "         #Your code - przekazanei wyjscia warstwy lstm do warstwy linear\n",
        "        return output, hidden\n",
        "\n",
        "    def init_hidden(self):\n",
        "        return (torch.zeros(self.n_layers, 1, self.hidden_size),\n",
        "                torch.zeros(self.n_layers, 1, self.hidden_size))"
      ],
      "execution_count": 185,
      "outputs": []
    },
    {
      "cell_type": "markdown",
      "metadata": {
        "id": "lambMdPZHbfe",
        "colab_type": "text"
      },
      "source": [
        "### funkcja zwraca zbiór treningowy powstały z losowego fragmentu tekstu. \"inp\" to wszystkie kolejne znaki fragmentu bez ostatniego, a \"target\" wszystkie znaki bez pierwszego. Wejście jest przekształconena wektory zerojedynkowe a wyjście jedynie na indeksy (postać wyjścia zależy od wyboru implementacji funkcji kosztu w pytorch)"
      ]
    },
    {
      "cell_type": "code",
      "metadata": {
        "id": "vZttCgX8Hbfe",
        "colab_type": "code",
        "colab": {}
      },
      "source": [
        "def random_training_set():    \n",
        "    chunk = random_chunk()\n",
        "    tensor_chunk = char_to_tensor(chunk, all_characters)\n",
        "    inp = one_hot_encoder(tensor_chunk[0:len(tensor_chunk)-1], n_characters)\n",
        "    target = one_hot_encoder(tensor_chunk[1:], n_characters)\n",
        "    return inp, target"
      ],
      "execution_count": 139,
      "outputs": []
    },
    {
      "cell_type": "markdown",
      "metadata": {
        "id": "wvROs5Y6Hbfg",
        "colab_type": "text"
      },
      "source": [
        "#### Funkcja zwracająca próbkę wygenerowanego tekstu - wykorzystywana do sprawdzenia jak działa sieć w trakcie trenowania\n",
        "\n",
        "*   List item\n",
        "*   List item\n",
        "\n"
      ]
    },
    {
      "cell_type": "code",
      "metadata": {
        "id": "AIgyaifyHbfh",
        "colab_type": "code",
        "colab": {}
      },
      "source": [
        "def sample(start_str='A', predict_len=100):\n",
        "    #uruchomienie sieci i zamiana ciągu znaków na tensor\n",
        "    hidden = rnn.init_hidden()\n",
        "    start_input = char_to_tensor(start_str, all_characters) #zamień tekst wejsciowy na indeksy\n",
        "    start_input = one_hot_encoder(start_input, n_characters) # zamień start_input na \"one-hot vector\"\n",
        "    predicted = start_str\n",
        "\n",
        "    #uruchomienie sieci dla początkowych liter tak aby \"pamiętała\" całe wejściem. nie potrzebujemy jeszcze zapisywać wyjścia tylko stan ukryty\n",
        "    for p in range(len(start_str) - 1):\n",
        "        _, hidden = rnn.forward(start_input.view(1, 1, 82), hidden) #your code \n",
        "        \n",
        "    #ostatnia litera - będzie pierszym wejściem dla sieci w pętli \n",
        "    inp = start_input[-1]\n",
        "    \n",
        "    #generowanie nowych znaków w pętli\n",
        "    for p in range(predict_len):\n",
        "        output, hidden = rnn.forward(start_input.view(1, 1, 82), hidden) #uruchom sieć dla kolejnych znaków\n",
        "        \n",
        "        top_v, top_i = output.data.view(-1).topk(1)       # wybór znaku z największym prawdopodobieństwem jako kontynuacji sekwencji\n",
        "        top_i = top_i[0]\n",
        "        \n",
        "        \n",
        "        predicted_char = all_characters[top_i] #zamiana indeksów na znaki\n",
        "        predicted += predicted_char\n",
        "\n",
        "        #zamiana predicted_char na wejście kolejnej iteracji\n",
        "        inp = one_hot_encoder(char_to_tensor(predicted_char, all_characters), n_characters)\n",
        "        \n",
        "\n",
        "    return predicted"
      ],
      "execution_count": 199,
      "outputs": []
    },
    {
      "cell_type": "code",
      "metadata": {
        "id": "VKB4sANgHbfj",
        "colab_type": "code",
        "colab": {}
      },
      "source": [
        "import time, math\n",
        "\n",
        "def time_since(since):\n",
        "    s = time.time() - since\n",
        "    m = math.floor(s / 60)\n",
        "    s -= m * 60\n",
        "    return '%dm %ds' % (m, s)"
      ],
      "execution_count": 141,
      "outputs": []
    },
    {
      "cell_type": "markdown",
      "metadata": {
        "id": "52_gHIhoHbfl",
        "colab_type": "text"
      },
      "source": [
        "#### trenowanie sieci"
      ]
    },
    {
      "cell_type": "code",
      "metadata": {
        "id": "BiJkevjwHbfm",
        "colab_type": "code",
        "colab": {}
      },
      "source": [
        "def train(inp, target):\n",
        "    hidden = rnn.init_hidden() # inicjalizacja stanu ukrytego przed każdym nowym przykładem uczącym\n",
        "    rnn.zero_grad()\n",
        "    losses = 0\n",
        "    for c in range(0, chunk_len-1):\n",
        "        output, hidden = rnn.forward(inp[c].view(1, 1, 82), hidden)               #your code - uruchomienie sieci dla znaku o indekcie c\n",
        "        loss = criterion(output, target[c])\n",
        "        losses += loss.item()                #your code - obliczenie błędu dla wyjscia sieci i znaku o odpowiednim indekci z sekwencji target\n",
        "    loss.backward()\n",
        "    rnn_optimizer.step()\n",
        "\n",
        "    return loss.data / chunk_len"
      ],
      "execution_count": 171,
      "outputs": []
    },
    {
      "cell_type": "code",
      "metadata": {
        "id": "2Ta1XJOlHbfn",
        "colab_type": "code",
        "colab": {
          "base_uri": "https://localhost:8080/",
          "height": 1000
        },
        "outputId": "3aaa023c-9a81-45e1-8b9b-e8d5295d8723"
      },
      "source": [
        "n_epochs = 6000\n",
        "print_every = 100\n",
        "plot_every = 10\n",
        "hidden_size = 10      #wybieram\n",
        "n_layers = 1\n",
        "lr = 0.005\n",
        "\n",
        "#Utworzenie instancji sieci.wektro wejściowy i wektor wyjściowy mają ten sam rozmiar - liczba znaków, wybierz hidden_size\n",
        "device = torch.device('cuda' if torch.cuda.is_available() else 'cpu')\n",
        "rnn = RNN(n_characters, hidden_size, 82) #your code\n",
        "rnn = rnn.to(device)\n",
        "\n",
        "rnn_optimizer =  torch.optim.Adam(rnn.parameters(), lr=lr)# your code - wybierz metode optymalizacji\n",
        "criterion =  nn.KLDivLoss() #nn.CrossEntropyLoss()\n",
        "\n",
        "start = time.time()\n",
        "all_losses = []\n",
        "loss_avg = 0\n",
        "\n",
        "for epoch in range(1, n_epochs + 1):\n",
        "    if epoch%500 == 0:\n",
        "        print(epoch)\n",
        "    x, target = random_training_set()\n",
        "    loss = train(x, target)\n",
        "    \n",
        "    loss_avg += loss\n",
        "\n",
        "    if epoch % print_every == 0:\n",
        "        print('%s (%d %d%%) %.4f' % (time_since(start), epoch, epoch / n_epochs * 100, loss))\n",
        "        print(sample('G', 100), '\\n')\n",
        "\n",
        "    if epoch % plot_every == 0:\n",
        "        all_losses.append(loss_avg / plot_every)\n",
        "        loss_avg = 0"
      ],
      "execution_count": 200,
      "outputs": [
        {
          "output_type": "stream",
          "text": [
            "/usr/local/lib/python3.6/dist-packages/torch/nn/functional.py:2247: UserWarning: reduction: 'mean' divides the total loss by both the batch size and the support size.'batchmean' divides only by the batch size, and aligns with the KL div math definition.'mean' will be changed to behave the same as 'batchmean' in the next major release.\n",
            "  warnings.warn(\"reduction: 'mean' divides the total loss by both the batch size and the support size.\"\n"
          ],
          "name": "stderr"
        },
        {
          "output_type": "stream",
          "text": [
            "0m 10s (100 1%) -0.0000\n",
            "G                                                                                                     \n",
            "\n",
            "0m 20s (200 3%) -0.0001\n",
            "G                                                                                                     \n",
            "\n",
            "0m 30s (300 5%) -0.0005\n",
            "G                                                                                                     \n",
            "\n",
            "0m 40s (400 6%) -0.0006\n",
            "G                                                                                                     \n",
            "\n",
            "500\n",
            "0m 50s (500 8%) -0.0004\n",
            "G                                                                                                     \n",
            "\n",
            "1m 0s (600 10%) -0.0006\n",
            "G                                                                                                     \n",
            "\n",
            "1m 9s (700 11%) -0.0002\n",
            "G                                                                                                     \n",
            "\n",
            "1m 19s (800 13%) -0.0005\n",
            "G                                                                                                     \n",
            "\n",
            "1m 29s (900 15%) -0.0006\n",
            "G                                                                                                     \n",
            "\n",
            "1000\n",
            "1m 39s (1000 16%) 0.0001\n",
            "G                                                                                                     \n",
            "\n",
            "1m 49s (1100 18%) -0.0008\n",
            "G                                                                                                     \n",
            "\n",
            "1m 59s (1200 20%) -0.0010\n",
            "G                                                                                                     \n",
            "\n",
            "2m 9s (1300 21%) -0.0018\n",
            "G                                                                                                     \n",
            "\n",
            "2m 19s (1400 23%) -0.0009\n",
            "G                                                                                                     \n",
            "\n",
            "1500\n",
            "2m 29s (1500 25%) -0.0001\n",
            "G                                                                                                     \n",
            "\n",
            "2m 39s (1600 26%) -0.0010\n",
            "G                                                                                                     \n",
            "\n",
            "2m 49s (1700 28%) -0.0006\n",
            "G                                                                                                     \n",
            "\n",
            "2m 59s (1800 30%) -0.0024\n",
            "G                                                                                                     \n",
            "\n",
            "3m 9s (1900 31%) -0.0006\n",
            "G                                                                                                     \n",
            "\n",
            "2000\n",
            "3m 19s (2000 33%) -0.0004\n",
            "G                                                                                                     \n",
            "\n",
            "3m 28s (2100 35%) -0.0004\n",
            "G                                                                                                     \n",
            "\n",
            "3m 38s (2200 36%) -0.0019\n",
            "G                                                                                                     \n",
            "\n",
            "3m 48s (2300 38%) -0.0013\n",
            "G                                                                                                     \n",
            "\n",
            "3m 58s (2400 40%) -0.0016\n",
            "G                                                                                                     \n",
            "\n",
            "2500\n",
            "4m 9s (2500 41%) -0.0033\n",
            "G                                                                                                     \n",
            "\n",
            "4m 19s (2600 43%) -0.0034\n",
            "G                                                                                                     \n",
            "\n",
            "4m 29s (2700 45%) -0.0023\n",
            "G                                                                                                     \n",
            "\n",
            "4m 39s (2800 46%) -0.0024\n",
            "G                                                                                                     \n",
            "\n",
            "4m 49s (2900 48%) -0.0017\n",
            "G                                                                                                     \n",
            "\n",
            "3000\n",
            "4m 59s (3000 50%) -0.0012\n",
            "G                                                                                                     \n",
            "\n",
            "5m 9s (3100 51%) -0.0012\n",
            "G                                                                                                     \n",
            "\n",
            "5m 19s (3200 53%) -0.0021\n",
            "G                                                                                                     \n",
            "\n",
            "5m 29s (3300 55%) -0.0021\n",
            "G                                                                                                     \n",
            "\n",
            "5m 39s (3400 56%) -0.0030\n",
            "G                                                                                                     \n",
            "\n",
            "3500\n",
            "5m 49s (3500 58%) -0.0022\n",
            "G                                                                                                     \n",
            "\n",
            "5m 59s (3600 60%) -0.0034\n",
            "G                                                                                                     \n",
            "\n",
            "6m 9s (3700 61%) -0.0024\n",
            "G                                                                                                     \n",
            "\n",
            "6m 19s (3800 63%) -0.0032\n",
            "G                                                                                                     \n",
            "\n",
            "6m 29s (3900 65%) -0.0035\n",
            "G                                                                                                     \n",
            "\n",
            "4000\n",
            "6m 39s (4000 66%) -0.0024\n",
            "G                                                                                                     \n",
            "\n",
            "6m 49s (4100 68%) -0.0051\n",
            "G                                                                                                     \n",
            "\n",
            "6m 59s (4200 70%) -0.0011\n",
            "G                                                                                                     \n",
            "\n",
            "7m 9s (4300 71%) -0.0007\n",
            "G                                                                                                     \n",
            "\n",
            "7m 19s (4400 73%) -0.0008\n",
            "G                                                                                                     \n",
            "\n",
            "4500\n",
            "7m 29s (4500 75%) -0.0042\n",
            "G                                                                                                     \n",
            "\n",
            "7m 39s (4600 76%) -0.0019\n",
            "G                                                                                                     \n",
            "\n",
            "7m 49s (4700 78%) -0.0058\n",
            "G                                                                                                     \n",
            "\n",
            "7m 59s (4800 80%) -0.0029\n",
            "G                                                                                                     \n",
            "\n",
            "8m 9s (4900 81%) -0.0024\n",
            "G                                                                                                     \n",
            "\n",
            "5000\n",
            "8m 19s (5000 83%) -0.0062\n",
            "G                                                                                                     \n",
            "\n",
            "8m 29s (5100 85%) -0.0025\n",
            "G                                                                                                     \n",
            "\n",
            "8m 39s (5200 86%) -0.0033\n",
            "G                                                                                                     \n",
            "\n",
            "8m 49s (5300 88%) -0.0030\n",
            "G                                                                                                     \n",
            "\n",
            "8m 59s (5400 90%) -0.0044\n",
            "G                                                                                                     \n",
            "\n",
            "5500\n",
            "9m 9s (5500 91%) -0.0069\n",
            "G                                                                                                     \n",
            "\n",
            "9m 19s (5600 93%) -0.0034\n",
            "G                                                                                                     \n",
            "\n",
            "9m 30s (5700 95%) -0.0027\n",
            "G                                                                                                     \n",
            "\n",
            "9m 40s (5800 96%) -0.0019\n",
            "G                                                                                                     \n",
            "\n",
            "9m 50s (5900 98%) -0.0073\n",
            "G                                                                                                     \n",
            "\n",
            "6000\n",
            "10m 0s (6000 100%) -0.0036\n",
            "G                                                                                                     \n",
            "\n"
          ],
          "name": "stdout"
        }
      ]
    },
    {
      "cell_type": "markdown",
      "metadata": {
        "id": "DXq1dEEeHbfq",
        "colab_type": "text"
      },
      "source": [
        "Przykładowy wynik generowania tekstu w poszczególnych epokach\n",
        "\n",
        "\n",
        "0m 13s (100 1%) 2.2526\n",
        "\n",
        "Swite z madla ma mala ma mala mala ma mala mala ma mala mala ma mala mala ma mala mala ma mala mala ma mala mala ma mala mala ma mala mala ma mala mala ma mala mala ma mala mala ma mala mala ma mala mala  \n",
        "\n",
        "\n",
        "(...)\n",
        "\n",
        "\n",
        "2m 20s (1000 12%) 1.6187\n",
        "\n",
        "Switala.\n",
        "\n",
        " \n",
        "\n",
        "Czym jak sie moj wiecie,\n",
        "Nie mowic na sie podla szczerze.\n",
        "\n",
        " \n",
        "\n",
        "Czym jak sie moj wiecie,\n",
        "\n",
        "Nie mowic na sie podla szczerze.\n",
        "\n",
        " \n",
        "\n",
        "Czym jak sie moj wiecie,\n",
        "\n",
        "Nie mowic na sie podla szczerze.\n",
        "\n",
        " \n",
        "\n",
        "Czym  \n",
        "\n",
        "{...)\n",
        "\n",
        "\n",
        "19m 1s (8000 100%) 0.7983\n",
        "\n",
        "Swita,\n",
        "\n",
        "Na miastem wojski mysiet.\n",
        "\n",
        " \n",
        "\n",
        "\"Ojchadzy przoczyna? - nieboszczyny miecz o pod slugi,\n",
        "\n",
        "Pewnie nie mowia wiesci przy swietem steka,\n",
        "\n",
        "Nie wczyna? - jak sie stary rosty,\n",
        "\n",
        " \n",
        "\n",
        "Nagle dysza nie mowia wiesci  \n"
      ]
    },
    {
      "cell_type": "code",
      "metadata": {
        "id": "qpJYq040Hbfr",
        "colab_type": "code",
        "colab": {
          "base_uri": "https://localhost:8080/",
          "height": 283
        },
        "outputId": "efdf031f-ee02-417f-dcf2-0d629df9a208"
      },
      "source": [
        "%matplotlib inline\n",
        "import matplotlib.pyplot as plt\n",
        "import matplotlib.ticker as ticker\n",
        "\n",
        "plt.figure()\n",
        "plt.plot(all_losses)"
      ],
      "execution_count": 201,
      "outputs": [
        {
          "output_type": "execute_result",
          "data": {
            "text/plain": [
              "[<matplotlib.lines.Line2D at 0x7ff6846b32e8>]"
            ]
          },
          "metadata": {
            "tags": []
          },
          "execution_count": 201
        },
        {
          "output_type": "display_data",
          "data": {
            "image/png": "[encoded data removed]",
            "text/plain": [
              "<Figure size 432x288 with 1 Axes>"
            ]
          },
          "metadata": {
            "tags": [],
            "needs_background": "light"
          }
        }
      ]
    }
  ]
}